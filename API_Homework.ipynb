{
  "nbformat": 4,
  "nbformat_minor": 0,
  "metadata": {
    "colab": {
      "provenance": [],
      "include_colab_link": true
    },
    "kernelspec": {
      "name": "python3",
      "display_name": "Python 3"
    },
    "language_info": {
      "name": "python"
    }
  },
  "cells": [
    {
      "cell_type": "markdown",
      "metadata": {
        "id": "view-in-github",
        "colab_type": "text"
      },
      "source": [
        "<a href=\"https://colab.research.google.com/github/ToriStoner/ToriStoner/blob/main/API_Homework.ipynb\" target=\"_parent\"><img src=\"https://colab.research.google.com/assets/colab-badge.svg\" alt=\"Open In Colab\"/></a>"
      ]
    },
    {
      "cell_type": "code",
      "execution_count": 1,
      "metadata": {
        "id": "5d1EwwSPnfZL"
      },
      "outputs": [],
      "source": [
        "#create python code that takes a user input for a stock\n",
        "\n",
        "import json\n",
        "import pandas as pd\n",
        "import requests\n"
      ]
    },
    {
      "cell_type": "code",
      "source": [
        "stock=input()"
      ],
      "metadata": {
        "colab": {
          "base_uri": "https://localhost:8080/"
        },
        "id": "k3SHxBFcas_U",
        "outputId": "87ae320d-550b-4592-8a5e-b3d3fe526699"
      },
      "execution_count": 2,
      "outputs": [
        {
          "name": "stdout",
          "output_type": "stream",
          "text": [
            "MSFT\n"
          ]
        }
      ]
    },
    {
      "cell_type": "code",
      "source": [
        "print(\"The Stock we will research is:\" + stock)"
      ],
      "metadata": {
        "colab": {
          "base_uri": "https://localhost:8080/"
        },
        "id": "2EPQ_we7av8r",
        "outputId": "a7101beb-e7b2-4875-ce0f-0b091642f132"
      },
      "execution_count": 3,
      "outputs": [
        {
          "output_type": "stream",
          "name": "stdout",
          "text": [
            "The Stock we will research is:MSFT\n"
          ]
        }
      ]
    },
    {
      "cell_type": "code",
      "source": [
        "apikey=\"apikey\"\n",
        "\n",
        "url = f'https://yfapi.net/v8/finance/chart/{stock}?comparisons=MSFT%2C%5EVIX&range=1mo&region=US&interval=1d&lang=en&events=div%2Csplit'\n",
        "\n",
        "querystring = {\"symbols\":stock}\n",
        "\n",
        "headers = {\n",
        "    'x-api-key': apikey\n",
        "    }\n",
        "\n",
        "response = requests.request(\"GET\", url, headers=headers, params=querystring)\n",
        "\n",
        "print(response.text)"
      ],
      "metadata": {
        "colab": {
          "base_uri": "https://localhost:8080/"
        },
        "id": "06jSBfwuayYb",
        "outputId": "d724c34e-7b5a-4006-860f-ae46d8a58f91"
      },
      "execution_count": 4,
      "outputs": [
        {
          "output_type": "stream",
          "name": "stdout",
          "text": [
            "{\"chart\":{\"result\":[{\"meta\":{\"currency\":\"USD\",\"symbol\":\"MSFT\",\"exchangeName\":\"NMS\",\"fullExchangeName\":\"NasdaqGS\",\"instrumentType\":\"EQUITY\",\"firstTradeDate\":511108200,\"regularMarketTime\":1728059906,\"hasPrePostMarketData\":true,\"gmtoffset\":-14400,\"timezone\":\"EDT\",\"exchangeTimezoneName\":\"America/New_York\",\"regularMarketPrice\":418.465,\"fiftyTwoWeekHigh\":419.75,\"fiftyTwoWeekLow\":414.97,\"regularMarketDayHigh\":419.75,\"regularMarketDayLow\":414.97,\"regularMarketVolume\":6249463,\"longName\":\"Microsoft Corporation\",\"shortName\":\"Microsoft Corporation\",\"chartPreviousClose\":408.9,\"priceHint\":2,\"currentTradingPeriod\":{\"pre\":{\"timezone\":\"EDT\",\"end\":1728048600,\"start\":1728028800,\"gmtoffset\":-14400},\"regular\":{\"timezone\":\"EDT\",\"end\":1728072000,\"start\":1728048600,\"gmtoffset\":-14400},\"post\":{\"timezone\":\"EDT\",\"end\":1728086400,\"start\":1728072000,\"gmtoffset\":-14400}},\"dataGranularity\":\"1d\",\"range\":\"1mo\",\"validRanges\":[\"10y\",\"ytd\",\"1d\",\"max\",\"3mo\",\"5d\",\"1mo\",\"2y\",\"1y\",\"6mo\",\"5y\"]},\"timestamp\":[1725456600,1725543000,1725629400,1725888600,1725975000,1726061400,1726147800,1726234200,1726493400,1726579800,1726666200,1726752600,1726839000,1727098200,1727184600,1727271000,1727357400,1727443800,1727703000,1727789400,1727875800,1727962200,1728059906],\"comparisons\":[{\"symbol\":\"^VIX\",\"high\":[23.31,21.53,23.76,21.41,20.74,21.41,18.59,17.18,17.69,18.08,19.39,17.27,16.68,16.95,16.67,15.82,15.83,16.97,17.79,20.73,20.36,20.75,20.48],\"low\":[19.34,19.21,18.83,19.29,18.9,17.55,16.89,16.23,16.91,16.67,17.11,16.21,15.81,15.75,15.27,15.17,14.9,15.2,16.47,16.61,18.58,19.16,18.78],\"chartPreviousClose\":21.32,\"close\":[21.32,19.9,22.38,19.45,19.08,17.69,17.07,16.56,17.14,17.61,18.23,16.33,16.15,15.89,15.39,15.41,15.37,16.96,16.73,19.26,18.9,20.49,19.21],\"open\":[23.2,20.75,21.98,21.32,19.86,19.41,17.62,17.03,17.16,17.16,17.58,17.21,16.35,16.71,15.87,15.82,15.06,15.64,17.01,16.96,19.65,19.63,20.48]}],\"indicators\":{\"quote\":[{\"open\":[405.9100036621094,407.6199951171875,409.05999755859375,407.239990234375,408.20001220703125,415.5,423.30999755859375,425.8299865722656,430.6000061035156,440.2300109863281,435.0,441.2300109863281,437.2200012207031,434.2799987792969,433.0,429.8299865722656,435.0899963378906,431.5199890136719,428.2099914550781,428.45001220703125,422.5799865722656,417.6300048828125,418.0350036621094],\"volume\":[15135800,14195500,19609500,15295100,19594300,19266900,17418800,15874600,13834700,18874200,18898000,21706600,55167100,15128900,17015800,13396400,14492000,14896100,16807300,19092900,16582300,13640900,6249463],\"close\":[408.8999938964844,408.3900146484375,401.70001220703125,405.7200012207031,414.20001220703125,423.0400085449219,427.0,430.5899963378906,431.3399963378906,435.1499938964844,430.80999755859375,438.69000244140625,435.2699890136719,433.510009765625,429.1700134277344,432.1099853515625,431.30999755859375,428.0199890136719,430.29998779296875,420.69000244140625,417.1300048828125,416.5400085449219,418.4649963378906],\"high\":[411.239990234375,413.1000061035156,410.6499938964844,408.6499938964844,416.3299865722656,423.989990234375,427.3699951171875,431.8299865722656,433.5299987792969,441.8500061035156,436.0299987792969,441.5,439.239990234375,436.4599914550781,433.3500061035156,433.1199951171875,435.29998779296875,431.8500061035156,430.4200134277344,428.4800109863281,422.82000732421875,419.54998779296875,419.75],\"low\":[404.3699951171875,406.1300048828125,400.79998779296875,402.1499938964844,407.70001220703125,409.5799865722656,419.75,425.4599914550781,428.2200012207031,432.2699890136719,430.4100036621094,436.8999938964844,434.2200012207031,430.3900146484375,426.1000061035156,428.57000732421875,429.1300048828125,427.4700012207031,425.3699951171875,418.80999755859375,416.7099914550781,414.2900085449219,414.9700012207031]}],\"adjclose\":[{\"adjclose\":[408.8999938964844,408.3900146484375,401.70001220703125,405.7200012207031,414.20001220703125,423.0400085449219,427.0,430.5899963378906,431.3399963378906,435.1499938964844,430.80999755859375,438.69000244140625,435.2699890136719,433.510009765625,429.1700134277344,432.1099853515625,431.30999755859375,428.0199890136719,430.29998779296875,420.69000244140625,417.1300048828125,416.5400085449219,418.4649963378906]}]}}],\"error\":null}}\n"
          ]
        }
      ]
    },
    {
      "cell_type": "code",
      "source": [
        "#ticker name, full name of stock, current market price\n",
        "#target mean price, 52 week high and low\n",
        "#5 of the current trending stock\n",
        "\n",
        "stock_json = response.json()\n",
        "\n",
        "api_one = print(stock_json['chart']['result'][0]['comparisons'][0]['symbol'] + \" Long Name: \" + stock_json['chart']['result'][0]['meta'][\"longName\"] + \" Current Market Price: \" +\n",
        "      str(stock_json['chart']['result'][0]['meta']['regularMarketPrice']) + \" 52 Week High: \" + str(stock_json['chart']['result'][0]['meta']['fiftyTwoWeekHigh']) + \" 52 Week Low: \" + str(stock_json['chart']['result'][0]['meta']['fiftyTwoWeekLow']))"
      ],
      "metadata": {
        "colab": {
          "base_uri": "https://localhost:8080/"
        },
        "id": "br5vMzXGb9M8",
        "outputId": "9d8753f6-bdf0-4708-d2b9-02642cc8241b"
      },
      "execution_count": 5,
      "outputs": [
        {
          "output_type": "stream",
          "name": "stdout",
          "text": [
            "^VIX Long Name: Microsoft Corporation Current Market Price: 418.465 52 Week High: 419.75 52 Week Low: 414.97\n"
          ]
        }
      ]
    },
    {
      "cell_type": "code",
      "source": [
        "apikey=\"apikey\"\n",
        "\n",
        "url = f'https://yfapi.net/v11/finance/quoteSummary/{stock}?lang=en&region=US&modules=financialData'\n",
        "\n",
        "\n",
        "querystring = {\"symbols\":stock}\n",
        "\n",
        "headers = {\n",
        "    'x-api-key': apikey\n",
        "    }\n",
        "\n",
        "second = requests.request(\"GET\", url, headers=headers, params=querystring)\n",
        "\n",
        "print(second.text)"
      ],
      "metadata": {
        "colab": {
          "base_uri": "https://localhost:8080/"
        },
        "id": "EcnOTfHTo7-y",
        "outputId": "ad1ec9f3-0c8f-4514-8620-1f72cd3174a1"
      },
      "execution_count": 6,
      "outputs": [
        {
          "output_type": "stream",
          "name": "stdout",
          "text": [
            "{\"quoteSummary\":{\"result\":[{\"financialData\":{\"maxAge\":86400,\"currentPrice\":{\"raw\":418.47,\"fmt\":\"418.47\"},\"targetHighPrice\":{\"raw\":600.0,\"fmt\":\"600.00\"},\"targetLowPrice\":{\"raw\":440.0,\"fmt\":\"440.00\"},\"targetMeanPrice\":{\"raw\":496.38,\"fmt\":\"496.38\"},\"targetMedianPrice\":{\"raw\":500.0,\"fmt\":\"500.00\"},\"recommendationMean\":{\"raw\":1.7,\"fmt\":\"1.70\"},\"recommendationKey\":\"buy\",\"numberOfAnalystOpinions\":{\"raw\":47,\"fmt\":\"47\",\"longFmt\":\"47\"},\"totalCash\":{\"raw\":75531001856,\"fmt\":\"75.53B\",\"longFmt\":\"75,531,001,856\"},\"totalCashPerShare\":{\"raw\":10.162,\"fmt\":\"10.16\"},\"ebitda\":{\"raw\":129433001984,\"fmt\":\"129.43B\",\"longFmt\":\"129,433,001,984\"},\"totalDebt\":{\"raw\":97851998208,\"fmt\":\"97.85B\",\"longFmt\":\"97,851,998,208\"},\"quickRatio\":{\"raw\":1.141,\"fmt\":\"1.14\"},\"currentRatio\":{\"raw\":1.275,\"fmt\":\"1.27\"},\"totalRevenue\":{\"raw\":245122007040,\"fmt\":\"245.12B\",\"longFmt\":\"245,122,007,040\"},\"debtToEquity\":{\"raw\":36.447,\"fmt\":\"36.45%\"},\"revenuePerShare\":{\"raw\":32.986,\"fmt\":\"32.99\"},\"returnOnAssets\":{\"raw\":0.14802,\"fmt\":\"14.80%\"},\"returnOnEquity\":{\"raw\":0.37133,\"fmt\":\"37.13%\"},\"grossProfits\":{},\"freeCashflow\":{\"raw\":56705249280,\"fmt\":\"56.71B\",\"longFmt\":\"56,705,249,280\"},\"operatingCashflow\":{\"raw\":118547996672,\"fmt\":\"118.55B\",\"longFmt\":\"118,547,996,672\"},\"earningsGrowth\":{\"raw\":0.097,\"fmt\":\"9.70%\"},\"revenueGrowth\":{\"raw\":0.152,\"fmt\":\"15.20%\"},\"grossMargins\":{\"raw\":0.69764,\"fmt\":\"69.76%\"},\"ebitdaMargins\":{\"raw\":0.52804,\"fmt\":\"52.80%\"},\"operatingMargins\":{\"raw\":0.43143,\"fmt\":\"43.14%\"},\"profitMargins\":{\"raw\":0.35956,\"fmt\":\"35.96%\"},\"financialCurrency\":\"USD\"}}],\"error\":null}}\n"
          ]
        }
      ]
    },
    {
      "cell_type": "code",
      "source": [
        "target_json = second.json()\n",
        "\n",
        "api_two = print(target_json['quoteSummary']['result'][0]['financialData']['targetMeanPrice'])\n"
      ],
      "metadata": {
        "id": "-PJtW8Ft_4nV",
        "colab": {
          "base_uri": "https://localhost:8080/"
        },
        "outputId": "531eb22c-8730-483a-c3a5-13ec8e257bbd"
      },
      "execution_count": 7,
      "outputs": [
        {
          "output_type": "stream",
          "name": "stdout",
          "text": [
            "{'raw': 496.38, 'fmt': '496.38'}\n"
          ]
        }
      ]
    },
    {
      "cell_type": "code",
      "source": [
        "apikey=\"apikey\"\n",
        "\n",
        "url = 'https://yfapi.net/v1/finance/trending/US'\n",
        "\n",
        "\n",
        "querystring = {\"symbols\":stock}\n",
        "\n",
        "headers = {\n",
        "    'x-api-key': apikey\n",
        "    }\n",
        "\n",
        "third = requests.request(\"GET\", url, headers=headers, params=querystring)\n",
        "\n",
        "print(third.text)"
      ],
      "metadata": {
        "colab": {
          "base_uri": "https://localhost:8080/"
        },
        "id": "rvAGmztMAqV2",
        "outputId": "d222a7a6-e041-48db-e099-bca13b5b9916"
      },
      "execution_count": 8,
      "outputs": [
        {
          "output_type": "stream",
          "name": "stdout",
          "text": [
            "{\"finance\":{\"result\":[{\"count\":20,\"quotes\":[{\"symbol\":\"SAVE\"},{\"symbol\":\"RIVN\"},{\"symbol\":\"JBLU\"},{\"symbol\":\"BENF\"},{\"symbol\":\"ZIM\"},{\"symbol\":\"PEV\"},{\"symbol\":\"LAZR\"},{\"symbol\":\"AAL\"},{\"symbol\":\"SLV\"},{\"symbol\":\"ANF\"},{\"symbol\":\"CDE\"},{\"symbol\":\"FORD\"},{\"symbol\":\"ALTM\"},{\"symbol\":\"VFC\"},{\"symbol\":\"EH\"},{\"symbol\":\"ACMR\"},{\"symbol\":\"PYPL\"},{\"symbol\":\"GEV\"},{\"symbol\":\"UBI.PA\"},{\"symbol\":\"SNOW\"}],\"jobTimestamp\":1728059542022,\"startInterval\":202410041500}],\"error\":null}}\n"
          ]
        }
      ]
    },
    {
      "cell_type": "code",
      "source": [
        "trending_json = third.json()\n"
      ],
      "metadata": {
        "id": "YvV1fU25Bd3I"
      },
      "execution_count": 9,
      "outputs": []
    },
    {
      "cell_type": "code",
      "source": [
        "api_three = []\n",
        "for i in trending_json['finance']['result'][0]['quotes'][:5]:\n",
        "  for value in i.values():\n",
        "    api_three.append(value)\n",
        "\n",
        "print(api_three)\n",
        "\n"
      ],
      "metadata": {
        "colab": {
          "base_uri": "https://localhost:8080/"
        },
        "id": "QIU1hmQaDtlQ",
        "outputId": "fad115f2-0fe8-4046-99ca-53ba5798409c"
      },
      "execution_count": 10,
      "outputs": [
        {
          "output_type": "stream",
          "name": "stdout",
          "text": [
            "['SAVE', 'RIVN', 'JBLU', 'BENF', 'ZIM']\n"
          ]
        }
      ]
    },
    {
      "cell_type": "code",
      "source": [
        "#putting the outputs in one df\n",
        "\n",
        "api_one = stock_json['chart']['result'][0]['comparisons'][0]['symbol'] +  stock_json['chart']['result'][0]['meta'][\"longName\"] + str(stock_json['chart']['result'][0]['meta']['regularMarketPrice']) +  str(stock_json['chart']['result'][0]['meta']['fiftyTwoWeekHigh']) + str(stock_json['chart']['result'][0]['meta']['fiftyTwoWeekLow'])\n",
        "\n",
        "api_two = target_json['quoteSummary']['result'][0]['financialData']['targetMeanPrice']\n",
        "\n",
        "api_three = api_three\n"
      ],
      "metadata": {
        "id": "5HxkzTq030ie"
      },
      "execution_count": 11,
      "outputs": []
    },
    {
      "cell_type": "code",
      "source": [
        "df = pd.DataFrame({'api_one': [api_one], 'api_two': [api_two], 'api_three': [api_three]})\n"
      ],
      "metadata": {
        "id": "Qsh8QTsp32OJ"
      },
      "execution_count": 12,
      "outputs": []
    },
    {
      "cell_type": "code",
      "source": [
        "print(df)"
      ],
      "metadata": {
        "colab": {
          "base_uri": "https://localhost:8080/"
        },
        "id": "9oTwZ14748OX",
        "outputId": "a6f280fa-97c9-4e35-e579-a5f7cb000cee"
      },
      "execution_count": 13,
      "outputs": [
        {
          "output_type": "stream",
          "name": "stdout",
          "text": [
            "                                        api_one  \\\n",
            "0  ^VIXMicrosoft Corporation418.465419.75414.97   \n",
            "\n",
            "                            api_two                      api_three  \n",
            "0  {'raw': 496.38, 'fmt': '496.38'}  [SAVE, RIVN, JBLU, BENF, ZIM]  \n"
          ]
        }
      ]
    },
    {
      "cell_type": "code",
      "source": [
        "#output to csv\n",
        "\n",
        "df.to_csv('output.csv')"
      ],
      "metadata": {
        "id": "yKoUyOXL5AL8"
      },
      "execution_count": 14,
      "outputs": []
    },
    {
      "cell_type": "code",
      "source": [
        "#plot the highest value of a stock at each of the last 5 days?'\n",
        "\n",
        "\n",
        "apikey=\"apikey\"\n",
        "\n",
        "url = 'https://yfapi.net/v8/finance/chart/AAPL?comparisons=MSFT%2C%5EVIX&range=5d&region=US&interval=1d&lang=en&events=div%2Csplit'\n",
        "\n",
        "querystring = {\"symbols\":stock}\n",
        "\n",
        "headers = {\n",
        "    'x-api-key': apikey\n",
        "    }\n",
        "\n",
        "five_days = requests.request(\"GET\", url, headers=headers, params=querystring)\n",
        "\n",
        "print(five_days.text)\n"
      ],
      "metadata": {
        "colab": {
          "base_uri": "https://localhost:8080/"
        },
        "id": "GD5LkMpn-IpS",
        "outputId": "8190404b-3431-4392-ffd9-53623053a771"
      },
      "execution_count": 15,
      "outputs": [
        {
          "output_type": "stream",
          "name": "stdout",
          "text": [
            "{\"chart\":{\"result\":[{\"meta\":{\"currency\":\"USD\",\"symbol\":\"AAPL\",\"exchangeName\":\"NMS\",\"fullExchangeName\":\"NasdaqGS\",\"instrumentType\":\"EQUITY\",\"firstTradeDate\":345479400,\"regularMarketTime\":1728059908,\"hasPrePostMarketData\":true,\"gmtoffset\":-14400,\"timezone\":\"EDT\",\"exchangeTimezoneName\":\"America/New_York\",\"regularMarketPrice\":225.21,\"fiftyTwoWeekHigh\":228.0,\"fiftyTwoWeekLow\":224.14,\"regularMarketDayHigh\":228.0,\"regularMarketDayLow\":224.14,\"regularMarketVolume\":15938800,\"longName\":\"Apple Inc.\",\"shortName\":\"Apple Inc.\",\"chartPreviousClose\":227.79,\"priceHint\":2,\"currentTradingPeriod\":{\"pre\":{\"timezone\":\"EDT\",\"start\":1728028800,\"end\":1728048600,\"gmtoffset\":-14400},\"regular\":{\"timezone\":\"EDT\",\"start\":1728048600,\"end\":1728072000,\"gmtoffset\":-14400},\"post\":{\"timezone\":\"EDT\",\"start\":1728072000,\"end\":1728086400,\"gmtoffset\":-14400}},\"dataGranularity\":\"1d\",\"range\":\"5d\",\"validRanges\":[\"5d\",\"3mo\",\"max\",\"6mo\",\"10y\",\"ytd\",\"1mo\",\"1y\",\"2y\",\"1d\",\"5y\"]},\"timestamp\":[1727703000,1727789400,1727875800,1727962200,1728059908],\"comparisons\":[{\"symbol\":\"MSFT\",\"high\":[430.42,428.48,422.82,419.55,419.75],\"low\":[425.37,418.81,416.71,414.29,414.97],\"chartPreviousClose\":428.02,\"close\":[430.3,420.69,417.13,416.54,418.47],\"open\":[428.21,428.45,422.58,417.63,418.035]},{\"symbol\":\"^VIX\",\"high\":[17.79,20.73,20.36,20.75,20.48],\"low\":[16.47,16.61,18.58,19.16,18.78],\"chartPreviousClose\":16.73,\"close\":[16.73,19.26,18.9,20.49,19.21],\"open\":[17.01,16.96,19.65,19.63,20.48]}],\"indicators\":{\"quote\":[{\"low\":[229.64999389648438,223.74000549316406,223.02000427246094,223.32000732421875,224.13999938964844],\"open\":[230.0399932861328,229.52000427246094,225.88999938964844,225.13999938964844,227.88999938964844],\"close\":[233.0,226.2100067138672,226.77999877929688,225.6699981689453,225.2100067138672],\"high\":[233.0,229.64999389648438,227.3699951171875,226.80999755859375,228.0],\"volume\":[54541900,63285000,32880600,33919900,15938800]}],\"adjclose\":[{\"adjclose\":[233.0,226.2100067138672,226.77999877929688,225.6699981689453,225.2100067138672]}]}}],\"error\":null}}\n"
          ]
        }
      ]
    },
    {
      "cell_type": "code",
      "source": [
        "five_days = five_days.json()"
      ],
      "metadata": {
        "id": "Pys3PiOnACGl"
      },
      "execution_count": 16,
      "outputs": []
    },
    {
      "cell_type": "code",
      "source": [
        "fiveday_values = five_days['chart']['result'][0]['comparisons'][0]['high'][:5]"
      ],
      "metadata": {
        "id": "GbUIG7A_Doba"
      },
      "execution_count": 17,
      "outputs": []
    },
    {
      "cell_type": "code",
      "source": [
        "print(fiveday_values)"
      ],
      "metadata": {
        "colab": {
          "base_uri": "https://localhost:8080/"
        },
        "id": "5J2bMZd6D2Xo",
        "outputId": "75f4ca20-b7bb-45b4-ef76-18edbbedbca3"
      },
      "execution_count": 18,
      "outputs": [
        {
          "output_type": "stream",
          "name": "stdout",
          "text": [
            "[430.42, 428.48, 422.82, 419.55, 419.75]\n"
          ]
        }
      ]
    },
    {
      "cell_type": "code",
      "source": [
        "days = [1, 2, 3, 4, 5]"
      ],
      "metadata": {
        "id": "Nu5qf6j1CQs4"
      },
      "execution_count": 19,
      "outputs": []
    },
    {
      "cell_type": "code",
      "source": [
        "import matplotlib.pyplot as plt\n",
        "\n",
        "plt.bar(days, fiveday_values)\n",
        "plt.title(\"Stock Price's highest value over the last 5 days\")\n",
        "plt.xlabel(\"Day\")\n",
        "plt.ylabel(\"Value\")\n",
        "plt.show()\n",
        "\n"
      ],
      "metadata": {
        "colab": {
          "base_uri": "https://localhost:8080/",
          "height": 472
        },
        "id": "cFmB0qOYDcEH",
        "outputId": "842086c9-9fe4-44d6-df93-371dbf3602c4"
      },
      "execution_count": 20,
      "outputs": [
        {
          "output_type": "display_data",
          "data": {
            "text/plain": [
              "<Figure size 640x480 with 1 Axes>"
            ],
            "image/png": "[encoded data removed]"
          },
          "metadata": {}
        }
      ]
    }
  ]
}