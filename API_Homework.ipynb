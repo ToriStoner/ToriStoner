{
  "nbformat": 4,
  "nbformat_minor": 0,
  "metadata": {
    "colab": {
      "provenance": [],
      "authorship_tag": "ABX9TyOcN7TT7cEQx4mR3Ds9Hyew",
      "include_colab_link": true
    },
    "kernelspec": {
      "name": "python3",
      "display_name": "Python 3"
    },
    "language_info": {
      "name": "python"
    }
  },
  "cells": [
    {
      "cell_type": "markdown",
      "metadata": {
        "id": "view-in-github",
        "colab_type": "text"
      },
      "source": [
        "<a href=\"https://colab.research.google.com/github/ToriStoner/ToriStoner/blob/main/API_Homework.ipynb\" target=\"_parent\"><img src=\"https://colab.research.google.com/assets/colab-badge.svg\" alt=\"Open In Colab\"/></a>"
      ]
    },
    {
      "cell_type": "code",
      "execution_count": 37,
      "metadata": {
        "id": "5d1EwwSPnfZL"
      },
      "outputs": [],
      "source": [
        "#create python code that takes a user input for a stock\n",
        "\n",
        "import json\n",
        "import pandas as pd\n",
        "import requests\n"
      ]
    },
    {
      "cell_type": "code",
      "source": [
        "stock=input()"
      ],
      "metadata": {
        "colab": {
          "base_uri": "https://localhost:8080/"
        },
        "id": "k3SHxBFcas_U",
        "outputId": "43e91390-db4b-443b-c098-4227595490bd"
      },
      "execution_count": 38,
      "outputs": [
        {
          "name": "stdout",
          "output_type": "stream",
          "text": [
            "MSFT\n"
          ]
        }
      ]
    },
    {
      "cell_type": "code",
      "source": [
        "print(\"The Stock we will research is:\" + stock)"
      ],
      "metadata": {
        "colab": {
          "base_uri": "https://localhost:8080/"
        },
        "id": "2EPQ_we7av8r",
        "outputId": "eb5e3283-08a7-4a0d-e851-a3cf58491511"
      },
      "execution_count": 39,
      "outputs": [
        {
          "output_type": "stream",
          "name": "stdout",
          "text": [
            "The Stock we will research is:MSFT\n"
          ]
        }
      ]
    },
    {
      "cell_type": "code",
      "source": [
        "apikey=\"RX5XAwloUg35lvJCyosjzacIKmAVKHuc6ftrXN7H\"\n",
        "\n",
        "url = 'https://yfapi.net/v8/finance/chart/AAPL?comparisons=MSFT%2C%5EVIX&range=1mo&region=US&interval=1d&lang=en&events=div%2Csplit'\n",
        "\n",
        "querystring = {\"symbols\":stock}\n",
        "\n",
        "headers = {\n",
        "    'x-api-key': apikey\n",
        "    }\n",
        "\n",
        "response = requests.request(\"GET\", url, headers=headers, params=querystring)\n",
        "\n",
        "print(response.text)"
      ],
      "metadata": {
        "colab": {
          "base_uri": "https://localhost:8080/"
        },
        "id": "06jSBfwuayYb",
        "outputId": "12cb56e5-29b7-47b5-837f-4af3c014fa65"
      },
      "execution_count": 40,
      "outputs": [
        {
          "output_type": "stream",
          "name": "stdout",
          "text": [
            "{\"chart\":{\"result\":[{\"meta\":{\"currency\":\"USD\",\"symbol\":\"AAPL\",\"exchangeName\":\"NMS\",\"fullExchangeName\":\"NasdaqGS\",\"instrumentType\":\"EQUITY\",\"firstTradeDate\":345479400,\"regularMarketTime\":1727882948,\"hasPrePostMarketData\":true,\"gmtoffset\":-14400,\"timezone\":\"EDT\",\"exchangeTimezoneName\":\"America/New_York\",\"regularMarketPrice\":226.14,\"fiftyTwoWeekHigh\":226.6,\"fiftyTwoWeekLow\":223.03,\"regularMarketDayHigh\":226.6,\"regularMarketDayLow\":223.03,\"regularMarketVolume\":13929237,\"longName\":\"Apple Inc.\",\"shortName\":\"Apple Inc.\",\"chartPreviousClose\":229.0,\"priceHint\":2,\"currentTradingPeriod\":{\"pre\":{\"timezone\":\"EDT\",\"start\":1727856000,\"end\":1727875800,\"gmtoffset\":-14400},\"regular\":{\"timezone\":\"EDT\",\"start\":1727875800,\"end\":1727899200,\"gmtoffset\":-14400},\"post\":{\"timezone\":\"EDT\",\"start\":1727899200,\"end\":1727913600,\"gmtoffset\":-14400}},\"dataGranularity\":\"1d\",\"range\":\"1mo\",\"validRanges\":[\"1mo\",\"5y\",\"2y\",\"1y\",\"max\",\"5d\",\"6mo\",\"10y\",\"ytd\",\"1d\",\"3mo\"]},\"timestamp\":[1725370200,1725456600,1725543000,1725629400,1725888600,1725975000,1726061400,1726147800,1726234200,1726493400,1726579800,1726666200,1726752600,1726839000,1727098200,1727184600,1727271000,1727357400,1727443800,1727703000,1727789400,1727882948],\"comparisons\":[{\"symbol\":\"MSFT\",\"high\":[419.88,411.24,413.1,410.65,408.65,416.33,423.99,427.37,431.83,433.53,441.85,436.03,441.5,439.24,436.46,433.35,433.12,435.3,431.85,430.42,428.48,422.77],\"low\":[407.03,404.37,406.13,400.8,402.15,407.7,409.58,419.75,425.46,428.22,432.27,430.41,436.9,434.22,430.39,426.1,428.57,429.13,427.47,425.37,418.81,416.71],\"chartPreviousClose\":417.14,\"close\":[409.44,408.9,408.39,401.7,405.72,414.2,423.04,427.0,430.59,431.34,435.15,430.81,438.69,435.27,433.51,429.17,432.11,431.31,428.02,430.3,420.69,418.86],\"open\":[417.91,405.91,407.62,409.06,407.24,408.2,415.5,423.31,425.83,430.6,440.23,435.0,441.23,437.22,434.28,433.0,429.83,435.09,431.52,428.21,428.45,422.59]},{\"symbol\":\"^VIX\",\"high\":[21.99,23.31,21.53,23.76,21.41,20.74,21.41,18.59,17.18,17.69,18.08,19.39,17.27,16.68,16.95,16.67,15.82,15.83,16.97,17.79,20.73,20.36],\"low\":[15.71,19.34,19.21,18.83,19.29,18.9,17.55,16.89,16.23,16.91,16.67,17.11,16.21,15.81,15.75,15.27,15.17,14.9,15.2,16.47,16.61,18.64],\"chartPreviousClose\":20.72,\"close\":[20.72,21.32,19.9,22.38,19.45,19.08,17.69,17.07,16.56,17.14,17.61,18.23,16.33,16.15,15.89,15.39,15.41,15.37,16.96,16.73,19.26,18.89],\"open\":[15.76,23.2,20.75,21.98,21.32,19.86,19.41,17.62,17.03,17.16,17.16,17.58,17.21,16.35,16.71,15.87,15.82,15.06,15.64,17.01,16.96,19.65]}],\"indicators\":{\"quote\":[{\"volume\":[50190600,43840200,36615400,48423000,67180000,51591000,44587100,37498200,36766600,59357400,45519300,59894900,66781300,318679900,54146000,43556100,42308700,36636700,34026000,54541900,62940000,13929237],\"close\":[222.77000427246094,220.85000610351562,222.3800048828125,220.82000732421875,220.91000366210938,220.11000061035156,222.66000366210938,222.77000427246094,222.5,216.32000732421875,216.7899932861328,220.69000244140625,228.8699951171875,228.1999969482422,226.47000122070312,227.3699951171875,226.3699951171875,227.52000427246094,227.7899932861328,233.0,226.2100067138672,226.13999938964844],\"open\":[228.5500030517578,221.66000366210938,221.6300048828125,223.9499969482422,220.82000732421875,218.9199981689453,221.4600067138672,222.5,223.5800018310547,216.5399932861328,215.75,217.5500030517578,224.99000549316406,229.97000122070312,227.33999633789062,228.64999389648438,224.92999267578125,227.3000030517578,228.4600067138672,230.0399932861328,229.52000427246094,225.88999938964844],\"high\":[229.0,221.77999877929688,225.47999572753906,225.24000549316406,221.27000427246094,221.47999572753906,223.08999633789062,223.5500030517578,224.0399932861328,217.22000122070312,216.89999389648438,222.7100067138672,229.82000732421875,233.08999633789062,229.4499969482422,229.35000610351562,227.2899932861328,228.5,229.52000427246094,233.0,229.64999389648438,226.60000610351562],\"low\":[221.1699981689453,217.47999572753906,221.52000427246094,219.77000427246094,216.7100067138672,216.72999572753906,217.88999938964844,219.82000732421875,221.91000366210938,213.9199981689453,214.5,217.5399932861328,224.6300048828125,227.6199951171875,225.80999755859375,225.72999572753906,224.02000427246094,225.41000366210938,227.3000030517578,229.64999389648438,223.74000549316406,223.02999877929688]}],\"adjclose\":[{\"adjclose\":[222.77000427246094,220.85000610351562,222.3800048828125,220.82000732421875,220.91000366210938,220.11000061035156,222.66000366210938,222.77000427246094,222.5,216.32000732421875,216.7899932861328,220.69000244140625,228.8699951171875,228.1999969482422,226.47000122070312,227.3699951171875,226.3699951171875,227.52000427246094,227.7899932861328,233.0,226.2100067138672,226.13999938964844]}]}}],\"error\":null}}\n"
          ]
        }
      ]
    },
    {
      "cell_type": "code",
      "source": [
        "#ticker name, full name of stock, current market price\n",
        "#target mean price, 52 week high and low\n",
        "#5 of the current trending stock\n",
        "\n",
        "stock_json = response.json()\n",
        "\n",
        "api_one = print(stock_json['chart']['result'][0]['comparisons'][0]['symbol'] + \" Long Name: \" + stock_json['chart']['result'][0]['meta'][\"longName\"] + \" Current Market Price: \" +\n",
        "      str(stock_json['chart']['result'][0]['meta']['regularMarketPrice']) + \" 52 Week High: \" + str(stock_json['chart']['result'][0]['meta']['fiftyTwoWeekHigh']) + \" 52 Week Low: \" + str(stock_json['chart']['result'][0]['meta']['fiftyTwoWeekLow']))"
      ],
      "metadata": {
        "colab": {
          "base_uri": "https://localhost:8080/"
        },
        "id": "br5vMzXGb9M8",
        "outputId": "fe5d14c4-7eae-46e7-e147-2d3aec6fb6f3"
      },
      "execution_count": 41,
      "outputs": [
        {
          "output_type": "stream",
          "name": "stdout",
          "text": [
            "MSFT Long Name: Apple Inc. Current Market Price: 226.14 52 Week High: 226.6 52 Week Low: 223.03\n"
          ]
        }
      ]
    },
    {
      "cell_type": "code",
      "source": [
        "apikey=\"RX5XAwloUg35lvJCyosjzacIKmAVKHuc6ftrXN7H\"\n",
        "\n",
        "url = 'https://yfapi.net/v11/finance/quoteSummary/AAPL?lang=en&region=US&modules=financialData'\n",
        "\n",
        "querystring = {\"symbols\":stock}\n",
        "\n",
        "headers = {\n",
        "    'x-api-key': apikey\n",
        "    }\n",
        "\n",
        "second = requests.request(\"GET\", url, headers=headers, params=querystring)\n",
        "\n",
        "print(second.text)"
      ],
      "metadata": {
        "colab": {
          "base_uri": "https://localhost:8080/"
        },
        "id": "EcnOTfHTo7-y",
        "outputId": "d9e589ee-73de-48cb-c91b-299103c0f0d1"
      },
      "execution_count": 42,
      "outputs": [
        {
          "output_type": "stream",
          "name": "stdout",
          "text": [
            "{\"quoteSummary\":{\"result\":[{\"financialData\":{\"maxAge\":86400,\"currentPrice\":{\"raw\":226.14,\"fmt\":\"226.14\"},\"targetHighPrice\":{\"raw\":300.0,\"fmt\":\"300.00\"},\"targetLowPrice\":{\"raw\":183.86,\"fmt\":\"183.86\"},\"targetMeanPrice\":{\"raw\":240.58,\"fmt\":\"240.58\"},\"targetMedianPrice\":{\"raw\":243.0,\"fmt\":\"243.00\"},\"recommendationMean\":{\"raw\":2.0,\"fmt\":\"2.00\"},\"recommendationKey\":\"buy\",\"numberOfAnalystOpinions\":{\"raw\":40,\"fmt\":\"40\",\"longFmt\":\"40\"},\"totalCash\":{\"raw\":61801000960,\"fmt\":\"61.8B\",\"longFmt\":\"61,801,000,960\"},\"totalCashPerShare\":{\"raw\":4.065,\"fmt\":\"4.07\"},\"ebitda\":{\"raw\":131781001216,\"fmt\":\"131.78B\",\"longFmt\":\"131,781,001,216\"},\"totalDebt\":{\"raw\":101304000512,\"fmt\":\"101.3B\",\"longFmt\":\"101,304,000,512\"},\"quickRatio\":{\"raw\":0.798,\"fmt\":\"0.80\"},\"currentRatio\":{\"raw\":0.953,\"fmt\":\"0.95\"},\"totalRevenue\":{\"raw\":385603010560,\"fmt\":\"385.6B\",\"longFmt\":\"385,603,010,560\"},\"debtToEquity\":{\"raw\":151.862,\"fmt\":\"151.86%\"},\"revenuePerShare\":{\"raw\":24.957,\"fmt\":\"24.96\"},\"returnOnAssets\":{\"raw\":0.22612,\"fmt\":\"22.61%\"},\"returnOnEquity\":{\"raw\":1.60583,\"fmt\":\"160.58%\"},\"grossProfits\":{},\"freeCashflow\":{\"raw\":86158123008,\"fmt\":\"86.16B\",\"longFmt\":\"86,158,123,008\"},\"operatingCashflow\":{\"raw\":113040998400,\"fmt\":\"113.04B\",\"longFmt\":\"113,040,998,400\"},\"earningsGrowth\":{\"raw\":0.111,\"fmt\":\"11.10%\"},\"revenueGrowth\":{\"raw\":0.049,\"fmt\":\"4.90%\"},\"grossMargins\":{\"raw\":0.45962003,\"fmt\":\"45.96%\"},\"ebitdaMargins\":{\"raw\":0.34175,\"fmt\":\"34.17%\"},\"operatingMargins\":{\"raw\":0.29556,\"fmt\":\"29.56%\"},\"profitMargins\":{\"raw\":0.26441,\"fmt\":\"26.44%\"},\"financialCurrency\":\"USD\"}}],\"error\":null}}\n"
          ]
        }
      ]
    },
    {
      "cell_type": "code",
      "source": [
        "target_json = second.json()\n",
        "\n",
        "api_two = print(target_json['quoteSummary']['result'][0]['financialData']['targetHighPrice'])\n"
      ],
      "metadata": {
        "id": "-PJtW8Ft_4nV"
      },
      "execution_count": 48,
      "outputs": []
    },
    {
      "cell_type": "code",
      "source": [
        "apikey=\"RX5XAwloUg35lvJCyosjzacIKmAVKHuc6ftrXN7H\"\n",
        "\n",
        "url = 'https://yfapi.net/v1/finance/trending/US'\n",
        "\n",
        "\n",
        "querystring = {\"symbols\":stock}\n",
        "\n",
        "headers = {\n",
        "    'x-api-key': apikey\n",
        "    }\n",
        "\n",
        "third = requests.request(\"GET\", url, headers=headers, params=querystring)\n",
        "\n",
        "print(third.text)"
      ],
      "metadata": {
        "colab": {
          "base_uri": "https://localhost:8080/"
        },
        "id": "rvAGmztMAqV2",
        "outputId": "888aad03-58c3-41d1-c020-0828fa4d0162"
      },
      "execution_count": 44,
      "outputs": [
        {
          "output_type": "stream",
          "name": "stdout",
          "text": [
            "{\"finance\":{\"result\":[{\"count\":20,\"quotes\":[{\"symbol\":\"TSLA\"},{\"symbol\":\"NKE\"},{\"symbol\":\"HUM\"},{\"symbol\":\"JOBY\"},{\"symbol\":\"BABA\"},{\"symbol\":\"JD\"},{\"symbol\":\"MELI\"},{\"symbol\":\"TRP.TO\"},{\"symbol\":\"CAG\"},{\"symbol\":\"API\"},{\"symbol\":\"WHLR\"},{\"symbol\":\"NKLA\"},{\"symbol\":\"TRP\"},{\"symbol\":\"HUMA\"},{\"symbol\":\"YINN\"},{\"symbol\":\"BILI\"},{\"symbol\":\"GCT\"},{\"symbol\":\"KXIN\"},{\"symbol\":\"TIGR\"},{\"symbol\":\"PDD\"}],\"jobTimestamp\":1727881992276,\"startInterval\":202410021400}],\"error\":null}}\n"
          ]
        }
      ]
    },
    {
      "cell_type": "code",
      "source": [
        "trending_json = third.json()\n"
      ],
      "metadata": {
        "id": "YvV1fU25Bd3I"
      },
      "execution_count": 45,
      "outputs": []
    },
    {
      "cell_type": "code",
      "source": [
        "api_three = []\n",
        "for i in trending_json['finance']['result'][0]['quotes'][:5]:\n",
        "  for value in i.values():\n",
        "    api_three.append(value)\n",
        "\n",
        "print(api_three)\n",
        "\n",
        ""
      ],
      "metadata": {
        "colab": {
          "base_uri": "https://localhost:8080/"
        },
        "id": "QIU1hmQaDtlQ",
        "outputId": "eb2ab9b2-948a-4cb2-b42c-9c6120a6cc26"
      },
      "execution_count": 46,
      "outputs": [
        {
          "output_type": "stream",
          "name": "stdout",
          "text": [
            "['TSLA', 'NKE', 'HUM', 'JOBY', 'BABA']\n"
          ]
        }
      ]
    },
    {
      "cell_type": "code",
      "source": [
        "#putting the outputs in one df\n",
        "\n",
        "api_one = stock_json['chart']['result'][0]['comparisons'][0]['symbol'] +  stock_json['chart']['result'][0]['meta'][\"longName\"] + str(stock_json['chart']['result'][0]['meta']['regularMarketPrice']) +  str(stock_json['chart']['result'][0]['meta']['fiftyTwoWeekHigh']) + str(stock_json['chart']['result'][0]['meta']['fiftyTwoWeekLow'])\n",
        "\n",
        "api_two = target_json['quoteSummary']['result'][0]['financialData']['targetHighPrice']\n",
        "\n",
        "api_three = api_three\n"
      ],
      "metadata": {
        "id": "5HxkzTq030ie"
      },
      "execution_count": 52,
      "outputs": []
    },
    {
      "cell_type": "code",
      "source": [
        "df = pd.DataFrame({'api_one': [api_one], 'api_two': [api_two], 'api_three': [api_three]})\n"
      ],
      "metadata": {
        "id": "Qsh8QTsp32OJ"
      },
      "execution_count": 53,
      "outputs": []
    },
    {
      "cell_type": "code",
      "source": [
        "print(df)"
      ],
      "metadata": {
        "colab": {
          "base_uri": "https://localhost:8080/"
        },
        "id": "9oTwZ14748OX",
        "outputId": "91b6ddbb-9d7a-4ff4-ceab-3f182d5ddb9a"
      },
      "execution_count": 54,
      "outputs": [
        {
          "output_type": "stream",
          "name": "stdout",
          "text": [
            "                           api_one                          api_two  \\\n",
            "0  MSFTApple Inc.226.14226.6223.03  {'raw': 300.0, 'fmt': '300.00'}   \n",
            "\n",
            "                      api_three  \n",
            "0  [TSLA, NKE, HUM, JOBY, BABA]  \n"
          ]
        }
      ]
    },
    {
      "cell_type": "code",
      "source": [
        "#output to csv\n",
        "\n",
        "df.to_csv('output.csv')"
      ],
      "metadata": {
        "id": "yKoUyOXL5AL8"
      },
      "execution_count": 55,
      "outputs": []
    }
  ]
}