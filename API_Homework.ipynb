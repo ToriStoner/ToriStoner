{
  "nbformat": 4,
  "nbformat_minor": 0,
  "metadata": {
    "colab": {
      "provenance": [],
      "authorship_tag": "ABX9TyP+SbRprHaP8BYfYkZqMF5h",
      "include_colab_link": true
    },
    "kernelspec": {
      "name": "python3",
      "display_name": "Python 3"
    },
    "language_info": {
      "name": "python"
    }
  },
  "cells": [
    {
      "cell_type": "markdown",
      "metadata": {
        "id": "view-in-github",
        "colab_type": "text"
      },
      "source": [
        "<a href=\"https://colab.research.google.com/github/ToriStoner/ToriStoner/blob/main/API_Homework.ipynb\" target=\"_parent\"><img src=\"https://colab.research.google.com/assets/colab-badge.svg\" alt=\"Open In Colab\"/></a>"
      ]
    },
    {
      "cell_type": "code",
      "execution_count": 76,
      "metadata": {
        "id": "5d1EwwSPnfZL"
      },
      "outputs": [],
      "source": [
        "#create python code that takes a user input for a stock\n",
        "\n",
        "import json\n",
        "import pandas as pd\n",
        "import requests\n"
      ]
    },
    {
      "cell_type": "code",
      "source": [
        "stock=input()"
      ],
      "metadata": {
        "colab": {
          "base_uri": "https://localhost:8080/"
        },
        "id": "k3SHxBFcas_U",
        "outputId": "4481371a-1ba5-4df6-abc1-0038494ba67e"
      },
      "execution_count": 77,
      "outputs": [
        {
          "name": "stdout",
          "output_type": "stream",
          "text": [
            "MSFT\n"
          ]
        }
      ]
    },
    {
      "cell_type": "code",
      "source": [
        "print(\"The Stock we will research is:\" + stock)"
      ],
      "metadata": {
        "colab": {
          "base_uri": "https://localhost:8080/"
        },
        "id": "2EPQ_we7av8r",
        "outputId": "03a8409f-1a1b-430f-a712-c295aec924f3"
      },
      "execution_count": 78,
      "outputs": [
        {
          "output_type": "stream",
          "name": "stdout",
          "text": [
            "The Stock we will research is:MSFT\n"
          ]
        }
      ]
    },
    {
      "cell_type": "code",
      "source": [
        "apikey=\"RX5XAwloUg35lvJCyosjzacIKmAVKHuc6ftrXN7H\"\n",
        "\n",
        "url = f'https://yfapi.net/v8/finance/chart/{stock}?comparisons=MSFT%2C%5EVIX&range=1mo&region=US&interval=1d&lang=en&events=div%2Csplit'\n",
        "\n",
        "querystring = {\"symbols\":stock}\n",
        "\n",
        "headers = {\n",
        "    'x-api-key': apikey\n",
        "    }\n",
        "\n",
        "response = requests.request(\"GET\", url, headers=headers, params=querystring)\n",
        "\n",
        "print(response.text)"
      ],
      "metadata": {
        "colab": {
          "base_uri": "https://localhost:8080/"
        },
        "id": "06jSBfwuayYb",
        "outputId": "c2052866-6eb1-43cd-af73-ca82e21b8f35"
      },
      "execution_count": 79,
      "outputs": [
        {
          "output_type": "stream",
          "name": "stdout",
          "text": [
            "{\"chart\":{\"result\":[{\"meta\":{\"currency\":\"USD\",\"symbol\":\"MSFT\",\"exchangeName\":\"NMS\",\"fullExchangeName\":\"NasdaqGS\",\"instrumentType\":\"EQUITY\",\"firstTradeDate\":511108200,\"regularMarketTime\":1727897289,\"hasPrePostMarketData\":true,\"gmtoffset\":-14400,\"timezone\":\"EDT\",\"exchangeTimezoneName\":\"America/New_York\",\"regularMarketPrice\":418.81,\"fiftyTwoWeekHigh\":422.77,\"fiftyTwoWeekLow\":416.71,\"regularMarketDayHigh\":422.77,\"regularMarketDayLow\":416.71,\"regularMarketVolume\":10324188,\"longName\":\"Microsoft Corporation\",\"shortName\":\"Microsoft Corporation\",\"chartPreviousClose\":417.14,\"priceHint\":2,\"currentTradingPeriod\":{\"pre\":{\"timezone\":\"EDT\",\"end\":1727875800,\"start\":1727856000,\"gmtoffset\":-14400},\"regular\":{\"timezone\":\"EDT\",\"end\":1727899200,\"start\":1727875800,\"gmtoffset\":-14400},\"post\":{\"timezone\":\"EDT\",\"end\":1727913600,\"start\":1727899200,\"gmtoffset\":-14400}},\"dataGranularity\":\"1d\",\"range\":\"1mo\",\"validRanges\":[\"1mo\",\"1y\",\"5d\",\"5y\",\"2y\",\"ytd\",\"max\",\"6mo\",\"1d\",\"3mo\",\"10y\"]},\"timestamp\":[1725370200,1725456600,1725543000,1725629400,1725888600,1725975000,1726061400,1726147800,1726234200,1726493400,1726579800,1726666200,1726752600,1726839000,1727098200,1727184600,1727271000,1727357400,1727443800,1727703000,1727789400,1727897289],\"comparisons\":[{\"symbol\":\"^VIX\",\"high\":[21.99,23.31,21.53,23.76,21.41,20.74,21.41,18.59,17.18,17.69,18.08,19.39,17.27,16.68,16.95,16.67,15.82,15.83,16.97,17.79,20.73,20.36],\"low\":[15.71,19.34,19.21,18.83,19.29,18.9,17.55,16.89,16.23,16.91,16.67,17.11,16.21,15.81,15.75,15.27,15.17,14.9,15.2,16.47,16.61,18.58],\"chartPreviousClose\":20.72,\"close\":[20.72,21.32,19.9,22.38,19.45,19.08,17.69,17.07,16.56,17.14,17.61,18.23,16.33,16.15,15.89,15.39,15.41,15.37,16.96,16.73,19.26,18.82],\"open\":[15.76,23.2,20.75,21.98,21.32,19.86,19.41,17.62,17.03,17.16,17.16,17.58,17.21,16.35,16.71,15.87,15.82,15.06,15.64,17.01,16.96,19.65]}],\"indicators\":{\"quote\":[{\"high\":[419.8800048828125,411.239990234375,413.1000061035156,410.6499938964844,408.6499938964844,416.3299865722656,423.989990234375,427.3699951171875,431.8299865722656,433.5299987792969,441.8500061035156,436.0299987792969,441.5,439.239990234375,436.4599914550781,433.3500061035156,433.1199951171875,435.29998779296875,431.8500061035156,430.4200134277344,428.4800109863281,422.7699890136719],\"low\":[407.0299987792969,404.3699951171875,406.1300048828125,400.79998779296875,402.1499938964844,407.70001220703125,409.5799865722656,419.75,425.4599914550781,428.2200012207031,432.2699890136719,430.4100036621094,436.8999938964844,434.2200012207031,430.3900146484375,426.1000061035156,428.57000732421875,429.1300048828125,427.4700012207031,425.3699951171875,418.80999755859375,416.7099914550781],\"open\":[417.9100036621094,405.9100036621094,407.6199951171875,409.05999755859375,407.239990234375,408.20001220703125,415.5,423.30999755859375,425.8299865722656,430.6000061035156,440.2300109863281,435.0,441.2300109863281,437.2200012207031,434.2799987792969,433.0,429.8299865722656,435.0899963378906,431.5199890136719,428.2099914550781,428.45001220703125,422.5899963378906],\"close\":[409.44000244140625,408.8999938964844,408.3900146484375,401.70001220703125,405.7200012207031,414.20001220703125,423.0400085449219,427.0,430.5899963378906,431.3399963378906,435.1499938964844,430.80999755859375,438.69000244140625,435.2699890136719,433.510009765625,429.1700134277344,432.1099853515625,431.30999755859375,428.0199890136719,430.29998779296875,420.69000244140625,418.80999755859375],\"volume\":[20313600,15135800,14195500,19609500,15295100,19594300,19266900,17418800,15874600,13834700,18874200,18898000,21706600,55167100,15128900,17015800,13396400,14492000,14896100,16807300,18919900,10324188]}],\"adjclose\":[{\"adjclose\":[409.44000244140625,408.8999938964844,408.3900146484375,401.70001220703125,405.7200012207031,414.20001220703125,423.0400085449219,427.0,430.5899963378906,431.3399963378906,435.1499938964844,430.80999755859375,438.69000244140625,435.2699890136719,433.510009765625,429.1700134277344,432.1099853515625,431.30999755859375,428.0199890136719,430.29998779296875,420.69000244140625,418.80999755859375]}]}}],\"error\":null}}\n"
          ]
        }
      ]
    },
    {
      "cell_type": "code",
      "source": [
        "#ticker name, full name of stock, current market price\n",
        "#target mean price, 52 week high and low\n",
        "#5 of the current trending stock\n",
        "\n",
        "stock_json = response.json()\n",
        "\n",
        "api_one = print(stock_json['chart']['result'][0]['comparisons'][0]['symbol'] + \" Long Name: \" + stock_json['chart']['result'][0]['meta'][\"longName\"] + \" Current Market Price: \" +\n",
        "      str(stock_json['chart']['result'][0]['meta']['regularMarketPrice']) + \" 52 Week High: \" + str(stock_json['chart']['result'][0]['meta']['fiftyTwoWeekHigh']) + \" 52 Week Low: \" + str(stock_json['chart']['result'][0]['meta']['fiftyTwoWeekLow']))"
      ],
      "metadata": {
        "colab": {
          "base_uri": "https://localhost:8080/"
        },
        "id": "br5vMzXGb9M8",
        "outputId": "5b54e1eb-5d55-4fbf-8d63-5ff93847d18d"
      },
      "execution_count": 80,
      "outputs": [
        {
          "output_type": "stream",
          "name": "stdout",
          "text": [
            "^VIX Long Name: Microsoft Corporation Current Market Price: 418.81 52 Week High: 422.77 52 Week Low: 416.71\n"
          ]
        }
      ]
    },
    {
      "cell_type": "code",
      "source": [
        "apikey=\"RX5XAwloUg35lvJCyosjzacIKmAVKHuc6ftrXN7H\"\n",
        "\n",
        "url = f'https://yfapi.net/v11/finance/quoteSummary/{stock}?lang=en&region=US&modules=financialData'\n",
        "\n",
        "\n",
        "querystring = {\"symbols\":stock}\n",
        "\n",
        "headers = {\n",
        "    'x-api-key': apikey\n",
        "    }\n",
        "\n",
        "second = requests.request(\"GET\", url, headers=headers, params=querystring)\n",
        "\n",
        "print(second.text)"
      ],
      "metadata": {
        "colab": {
          "base_uri": "https://localhost:8080/"
        },
        "id": "EcnOTfHTo7-y",
        "outputId": "2d7fd3c5-34fa-4c78-8553-d3cc8afdaa37"
      },
      "execution_count": 81,
      "outputs": [
        {
          "output_type": "stream",
          "name": "stdout",
          "text": [
            "{\"quoteSummary\":{\"result\":[{\"financialData\":{\"maxAge\":86400,\"currentPrice\":{\"raw\":418.85,\"fmt\":\"418.85\"},\"targetHighPrice\":{\"raw\":600.0,\"fmt\":\"600.00\"},\"targetLowPrice\":{\"raw\":440.0,\"fmt\":\"440.00\"},\"targetMeanPrice\":{\"raw\":496.38,\"fmt\":\"496.38\"},\"targetMedianPrice\":{\"raw\":500.0,\"fmt\":\"500.00\"},\"recommendationMean\":{\"raw\":1.7,\"fmt\":\"1.70\"},\"recommendationKey\":\"buy\",\"numberOfAnalystOpinions\":{\"raw\":47,\"fmt\":\"47\",\"longFmt\":\"47\"},\"totalCash\":{\"raw\":75531001856,\"fmt\":\"75.53B\",\"longFmt\":\"75,531,001,856\"},\"totalCashPerShare\":{\"raw\":10.162,\"fmt\":\"10.16\"},\"ebitda\":{\"raw\":129433001984,\"fmt\":\"129.43B\",\"longFmt\":\"129,433,001,984\"},\"totalDebt\":{\"raw\":97851998208,\"fmt\":\"97.85B\",\"longFmt\":\"97,851,998,208\"},\"quickRatio\":{\"raw\":1.141,\"fmt\":\"1.14\"},\"currentRatio\":{\"raw\":1.275,\"fmt\":\"1.27\"},\"totalRevenue\":{\"raw\":245122007040,\"fmt\":\"245.12B\",\"longFmt\":\"245,122,007,040\"},\"debtToEquity\":{\"raw\":36.447,\"fmt\":\"36.45%\"},\"revenuePerShare\":{\"raw\":32.986,\"fmt\":\"32.99\"},\"returnOnAssets\":{\"raw\":0.14802,\"fmt\":\"14.80%\"},\"returnOnEquity\":{\"raw\":0.37133,\"fmt\":\"37.13%\"},\"grossProfits\":{},\"freeCashflow\":{\"raw\":56705249280,\"fmt\":\"56.71B\",\"longFmt\":\"56,705,249,280\"},\"operatingCashflow\":{\"raw\":118547996672,\"fmt\":\"118.55B\",\"longFmt\":\"118,547,996,672\"},\"earningsGrowth\":{\"raw\":0.097,\"fmt\":\"9.70%\"},\"revenueGrowth\":{\"raw\":0.152,\"fmt\":\"15.20%\"},\"grossMargins\":{\"raw\":0.69764,\"fmt\":\"69.76%\"},\"ebitdaMargins\":{\"raw\":0.52804,\"fmt\":\"52.80%\"},\"operatingMargins\":{\"raw\":0.43143,\"fmt\":\"43.14%\"},\"profitMargins\":{\"raw\":0.35956,\"fmt\":\"35.96%\"},\"financialCurrency\":\"USD\"}}],\"error\":null}}\n"
          ]
        }
      ]
    },
    {
      "cell_type": "code",
      "source": [
        "target_json = second.json()\n",
        "\n",
        "api_two = print(target_json['quoteSummary']['result'][0]['financialData']['targetMeanPrice'])\n"
      ],
      "metadata": {
        "id": "-PJtW8Ft_4nV",
        "colab": {
          "base_uri": "https://localhost:8080/"
        },
        "outputId": "9cd35528-a400-417c-8e32-a13a2f87f7c9"
      },
      "execution_count": 82,
      "outputs": [
        {
          "output_type": "stream",
          "name": "stdout",
          "text": [
            "{'raw': 496.38, 'fmt': '496.38'}\n"
          ]
        }
      ]
    },
    {
      "cell_type": "code",
      "source": [
        "apikey=\"RX5XAwloUg35lvJCyosjzacIKmAVKHuc6ftrXN7H\"\n",
        "\n",
        "url = 'https://yfapi.net/v1/finance/trending/US'\n",
        "\n",
        "\n",
        "querystring = {\"symbols\":stock}\n",
        "\n",
        "headers = {\n",
        "    'x-api-key': apikey\n",
        "    }\n",
        "\n",
        "third = requests.request(\"GET\", url, headers=headers, params=querystring)\n",
        "\n",
        "print(third.text)"
      ],
      "metadata": {
        "colab": {
          "base_uri": "https://localhost:8080/"
        },
        "id": "rvAGmztMAqV2",
        "outputId": "40c51417-1e21-4f2c-a186-ab9729de8123"
      },
      "execution_count": 83,
      "outputs": [
        {
          "output_type": "stream",
          "name": "stdout",
          "text": [
            "{\"finance\":{\"result\":[{\"count\":20,\"quotes\":[{\"symbol\":\"HUM\"},{\"symbol\":\"TSLA\"},{\"symbol\":\"JOBY\"},{\"symbol\":\"CLOV\"},{\"symbol\":\"NKE\"},{\"symbol\":\"NVAX\"},{\"symbol\":\"NKLA\"},{\"symbol\":\"CRM\"},{\"symbol\":\"WHLR\"},{\"symbol\":\"SARO\"},{\"symbol\":\"MELI\"},{\"symbol\":\"API\"},{\"symbol\":\"TRP.TO\"},{\"symbol\":\"CAG\"},{\"symbol\":\"CTRYY\"},{\"symbol\":\"TOP\"},{\"symbol\":\"ENVX\"},{\"symbol\":\"KXIN\"},{\"symbol\":\"TRP\"},{\"symbol\":\"HKD\"}],\"jobTimestamp\":1727892817855,\"startInterval\":202410021700}],\"error\":null}}\n"
          ]
        }
      ]
    },
    {
      "cell_type": "code",
      "source": [
        "trending_json = third.json()\n"
      ],
      "metadata": {
        "id": "YvV1fU25Bd3I"
      },
      "execution_count": 84,
      "outputs": []
    },
    {
      "cell_type": "code",
      "source": [
        "api_three = []\n",
        "for i in trending_json['finance']['result'][0]['quotes'][:5]:\n",
        "  for value in i.values():\n",
        "    api_three.append(value)\n",
        "\n",
        "print(api_three)\n",
        "\n"
      ],
      "metadata": {
        "colab": {
          "base_uri": "https://localhost:8080/"
        },
        "id": "QIU1hmQaDtlQ",
        "outputId": "b6f3c0b5-bc6b-41c9-be33-d64f80eb61d4"
      },
      "execution_count": 85,
      "outputs": [
        {
          "output_type": "stream",
          "name": "stdout",
          "text": [
            "['HUM', 'TSLA', 'JOBY', 'CLOV', 'NKE']\n"
          ]
        }
      ]
    },
    {
      "cell_type": "code",
      "source": [
        "#putting the outputs in one df\n",
        "\n",
        "api_one = stock_json['chart']['result'][0]['comparisons'][0]['symbol'] +  stock_json['chart']['result'][0]['meta'][\"longName\"] + str(stock_json['chart']['result'][0]['meta']['regularMarketPrice']) +  str(stock_json['chart']['result'][0]['meta']['fiftyTwoWeekHigh']) + str(stock_json['chart']['result'][0]['meta']['fiftyTwoWeekLow'])\n",
        "\n",
        "api_two = target_json['quoteSummary']['result'][0]['financialData']['targetMeanPrice']\n",
        "\n",
        "api_three = api_three\n"
      ],
      "metadata": {
        "id": "5HxkzTq030ie"
      },
      "execution_count": 86,
      "outputs": []
    },
    {
      "cell_type": "code",
      "source": [
        "df = pd.DataFrame({'api_one': [api_one], 'api_two': [api_two], 'api_three': [api_three]})\n"
      ],
      "metadata": {
        "id": "Qsh8QTsp32OJ"
      },
      "execution_count": 87,
      "outputs": []
    },
    {
      "cell_type": "code",
      "source": [
        "print(df)"
      ],
      "metadata": {
        "colab": {
          "base_uri": "https://localhost:8080/"
        },
        "id": "9oTwZ14748OX",
        "outputId": "0abbe23b-4a81-45dd-e7ff-6745b66e3645"
      },
      "execution_count": 88,
      "outputs": [
        {
          "output_type": "stream",
          "name": "stdout",
          "text": [
            "                                       api_one  \\\n",
            "0  ^VIXMicrosoft Corporation418.81422.77416.71   \n",
            "\n",
            "                            api_two                     api_three  \n",
            "0  {'raw': 496.38, 'fmt': '496.38'}  [HUM, TSLA, JOBY, CLOV, NKE]  \n"
          ]
        }
      ]
    },
    {
      "cell_type": "code",
      "source": [
        "#output to csv\n",
        "\n",
        "df.to_csv('output.csv')"
      ],
      "metadata": {
        "id": "yKoUyOXL5AL8"
      },
      "execution_count": 89,
      "outputs": []
    },
    {
      "cell_type": "code",
      "source": [
        "#plot the highest value of a stock at each of the last 5 days?'\n",
        "\n",
        "\n",
        "apikey=\"RX5XAwloUg35lvJCyosjzacIKmAVKHuc6ftrXN7H\"\n",
        "\n",
        "url = 'https://yfapi.net/v8/finance/chart/AAPL?comparisons=MSFT%2C%5EVIX&range=5d&region=US&interval=1d&lang=en&events=div%2Csplit'\n",
        "\n",
        "querystring = {\"symbols\":stock}\n",
        "\n",
        "headers = {\n",
        "    'x-api-key': apikey\n",
        "    }\n",
        "\n",
        "five_days = requests.request(\"GET\", url, headers=headers, params=querystring)\n",
        "\n",
        "print(five_days.text)\n"
      ],
      "metadata": {
        "colab": {
          "base_uri": "https://localhost:8080/"
        },
        "id": "GD5LkMpn-IpS",
        "outputId": "108d2b99-ea07-4b33-e4e6-0bf67ed7c707"
      },
      "execution_count": 90,
      "outputs": [
        {
          "output_type": "stream",
          "name": "stdout",
          "text": [
            "{\"chart\":{\"result\":[{\"meta\":{\"currency\":\"USD\",\"symbol\":\"AAPL\",\"exchangeName\":\"NMS\",\"fullExchangeName\":\"NasdaqGS\",\"instrumentType\":\"EQUITY\",\"firstTradeDate\":345479400,\"regularMarketTime\":1727897294,\"hasPrePostMarketData\":true,\"gmtoffset\":-14400,\"timezone\":\"EDT\",\"exchangeTimezoneName\":\"America/New_York\",\"regularMarketPrice\":227.29,\"fiftyTwoWeekHigh\":227.33,\"fiftyTwoWeekLow\":223.03,\"regularMarketDayHigh\":227.33,\"regularMarketDayLow\":223.03,\"regularMarketVolume\":24564756,\"longName\":\"Apple Inc.\",\"shortName\":\"Apple Inc.\",\"chartPreviousClose\":226.37,\"priceHint\":2,\"currentTradingPeriod\":{\"pre\":{\"timezone\":\"EDT\",\"end\":1727875800,\"start\":1727856000,\"gmtoffset\":-14400},\"regular\":{\"timezone\":\"EDT\",\"end\":1727899200,\"start\":1727875800,\"gmtoffset\":-14400},\"post\":{\"timezone\":\"EDT\",\"end\":1727913600,\"start\":1727899200,\"gmtoffset\":-14400}},\"dataGranularity\":\"1d\",\"range\":\"5d\",\"validRanges\":[\"1mo\",\"2y\",\"1y\",\"ytd\",\"5d\",\"5y\",\"3mo\",\"10y\",\"1d\",\"6mo\",\"max\"]},\"timestamp\":[1727357400,1727443800,1727703000,1727789400,1727897294],\"comparisons\":[{\"symbol\":\"MSFT\",\"high\":[435.3,431.85,430.42,428.48,422.77],\"low\":[429.13,427.47,425.37,418.81,416.71],\"chartPreviousClose\":432.11,\"close\":[431.31,428.02,430.3,420.69,418.85],\"open\":[435.09,431.52,428.21,428.45,422.59]},{\"symbol\":\"^VIX\",\"high\":[15.83,16.97,17.79,20.73,20.36],\"low\":[14.9,15.2,16.47,16.61,18.58],\"chartPreviousClose\":15.37,\"close\":[15.37,16.96,16.73,19.26,18.82],\"open\":[15.06,15.64,17.01,16.96,19.65]}],\"indicators\":{\"quote\":[{\"high\":[228.5,229.52000427246094,233.0,229.64999389648438,227.3300018310547],\"low\":[225.41000366210938,227.3000030517578,229.64999389648438,223.74000549316406,223.02999877929688],\"volume\":[36636700,34026000,54541900,62940000,24564756],\"open\":[227.3000030517578,228.4600067138672,230.0399932861328,229.52000427246094,225.88999938964844],\"close\":[227.52000427246094,227.7899932861328,233.0,226.2100067138672,227.2899932861328]}],\"adjclose\":[{\"adjclose\":[227.52000427246094,227.7899932861328,233.0,226.2100067138672,227.2899932861328]}]}}],\"error\":null}}\n"
          ]
        }
      ]
    },
    {
      "cell_type": "code",
      "source": [
        "five_days = five_days.json()"
      ],
      "metadata": {
        "id": "Pys3PiOnACGl"
      },
      "execution_count": 91,
      "outputs": []
    },
    {
      "cell_type": "code",
      "source": [
        "fiveday_values = five_days['chart']['result'][0]['comparisons'][0]['high'][:5]"
      ],
      "metadata": {
        "id": "GbUIG7A_Doba"
      },
      "execution_count": 92,
      "outputs": []
    },
    {
      "cell_type": "code",
      "source": [
        "print(fiveday_values)"
      ],
      "metadata": {
        "colab": {
          "base_uri": "https://localhost:8080/"
        },
        "id": "5J2bMZd6D2Xo",
        "outputId": "725ca688-64f9-404e-b7e4-c7db5ccfb795"
      },
      "execution_count": 93,
      "outputs": [
        {
          "output_type": "stream",
          "name": "stdout",
          "text": [
            "[435.3, 431.85, 430.42, 428.48, 422.77]\n"
          ]
        }
      ]
    },
    {
      "cell_type": "code",
      "source": [
        "days = [1, 2, 3, 4, 5]"
      ],
      "metadata": {
        "id": "Nu5qf6j1CQs4"
      },
      "execution_count": 94,
      "outputs": []
    },
    {
      "cell_type": "code",
      "source": [
        "import matplotlib.pyplot as plt\n",
        "\n",
        "plt.bar(days, fiveday_values)\n",
        "plt.title(\"Stock Price's highest value over the last 5 days\")\n",
        "plt.xlabel(\"Day\")\n",
        "plt.ylabel(\"Value\")\n",
        "plt.show()\n",
        "\n"
      ],
      "metadata": {
        "colab": {
          "base_uri": "https://localhost:8080/",
          "height": 472
        },
        "id": "cFmB0qOYDcEH",
        "outputId": "08019c20-52f5-4001-daa1-66130954278f"
      },
      "execution_count": 95,
      "outputs": [
        {
          "output_type": "display_data",
          "data": {
            "text/plain": [
              "<Figure size 640x480 with 1 Axes>"
            ],
            "image/png": "[encoded data removed]"
          },
          "metadata": {}
        }
      ]
    }
  ]
}