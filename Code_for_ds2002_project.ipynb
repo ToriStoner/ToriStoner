{
  "nbformat": 4,
  "nbformat_minor": 0,
  "metadata": {
    "colab": {
      "provenance": [],
      "authorship_tag": "ABX9TyNqyBWTUMYXYPWlI6i3Pmb7",
      "include_colab_link": true
    },
    "kernelspec": {
      "name": "python3",
      "display_name": "Python 3"
    },
    "language_info": {
      "name": "python"
    }
  },
  "cells": [
    {
      "cell_type": "markdown",
      "metadata": {
        "id": "view-in-github",
        "colab_type": "text"
      },
      "source": [
        "<a href=\"https://colab.research.google.com/github/ToriStoner/ToriStoner/blob/main/Code_for_ds2002_project.ipynb\" target=\"_parent\"><img src=\"https://colab.research.google.com/assets/colab-badge.svg\" alt=\"Open In Colab\"/></a>"
      ]
    },
    {
      "cell_type": "code",
      "execution_count": null,
      "metadata": {
        "id": "Ic8FJi6dPTf7"
      },
      "outputs": [],
      "source": [
        "graph3_corr = gapmhealth['Sexual Violence Rate'].corr(gapmhealth['Alcohol use disorders (%)'])\n",
        "\n",
        "graph1_corr = gapmhealth['Sexual Violence Rate'].corr(gapmhealth['Population'])\n",
        "\n",
        "graph2_corr = gapmhealth['Sexual Violence Rate'].corr(gapmhealth['Year'])\n",
        "\n",
        "\n",
        "#corr for infant mortality rate and depression\n",
        "graph4_corr = gapmhealth['infant_mortality'].corr(gapmhealth['Depression (%)'])\n",
        "\n",
        "#graph for infant mortality rate and depression\n",
        "\n",
        "sb.scatterplot(x='Depression (%)', y='infant_mortality',hue='continent', data=gap_mhealth)\n",
        "\n",
        "\n",
        "\n",
        "\n"
      ]
    }
  ]
}